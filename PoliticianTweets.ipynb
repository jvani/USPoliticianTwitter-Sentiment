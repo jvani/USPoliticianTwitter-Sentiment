{
 "cells": [
  {
   "cell_type": "code",
   "execution_count": 1,
   "metadata": {
    "collapsed": false
   },
   "outputs": [],
   "source": [
    "import json\n",
    "import time\n",
    "import numpy as np\n",
    "import pandas as pd\n",
    "from vaderSentiment.vaderSentiment import SentimentIntensityAnalyzer"
   ]
  },
  {
   "cell_type": "code",
   "execution_count": 2,
   "metadata": {
    "collapsed": false
   },
   "outputs": [],
   "source": [
    "def get_screen_names(infile):\n",
    "    screennames = []\n",
    "    with open(infile, 'r') as f:\n",
    "        for r in f:\n",
    "            row = json.loads(r)\n",
    "            screennames.append(row['screen_name'])\n",
    "    return screennames\n",
    "\n",
    "def user_tweets(infile, screenname):\n",
    "    tweets = []\n",
    "    with open(infile, 'r') as f:\n",
    "        for r in f:\n",
    "            row = json.loads(r)\n",
    "            if row['screen_name'] == screenname:\n",
    "                tweets.append(row)\n",
    "    return tweets\n",
    "\n",
    "def analyze_tweet(line):\n",
    "    analyzer = SentimentIntensityAnalyzer()\n",
    "    return analyzer.polarity_scores(line)['compound']\n",
    "\n",
    "def analyze_user_tweets(tweets):\n",
    "    sentiment = []\n",
    "    for tweet in tweets:\n",
    "        sentiment.append(analyze_tweet(tweet['text']))\n",
    "    return sentiment"
   ]
  },
  {
   "cell_type": "code",
   "execution_count": 6,
   "metadata": {
    "collapsed": false
   },
   "outputs": [
    {
     "name": "stdout",
     "output_type": "stream",
     "text": [
      "Num of representatives: 548\n"
     ]
    }
   ],
   "source": [
    "screen_names = get_screen_names('./users.json')\n",
    "print 'Num of representatives: {}'.format(len(screen_names))"
   ]
  },
  {
   "cell_type": "code",
   "execution_count": 31,
   "metadata": {
    "collapsed": false
   },
   "outputs": [
    {
     "name": "stdout",
     "output_type": "stream",
     "text": [
      "Elapsed time: 102.314145088(s)\n",
      "Number of tweets: 3243\n",
      "Avg sentiment score: 0.0341148627814\n"
     ]
    }
   ],
   "source": [
    "start = time.time()\n",
    "\n",
    "tweets = user_tweets('./tweets.json', 'SenSanders')\n",
    "sentiment = analyze_user_tweets(tweets)\n",
    "\n",
    "print 'Elapsed time: {}(s)'.format(time.time() - start)\n",
    "print 'Number of tweets: {}'.format(len(tweets))\n",
    "print 'Avg sentiment score: {}'.format(np.mean(sentiment))"
   ]
  },
  {
   "cell_type": "code",
   "execution_count": 32,
   "metadata": {
    "collapsed": false
   },
   "outputs": [
    {
     "name": "stdout",
     "output_type": "stream",
     "text": [
      "Most Positve Tweets:\n",
      "\n",
      "Let me take this opportunity to wish all our friends a healthy and happy new year. Let us go forward together in 2017. \n",
      "\n",
      "RT @SenatorDurbin: Health care should be a basic right in this great nation. We must work to improve our health care system, not dismantle… \n",
      "\n",
      "Unbelievable but true. The 62 wealthiest billionaires own more wealth than the bottom half of the world's population. \n",
      "\n",
      "The test of a great nation is not how many wars we can engage in, but how we can use our strength to resolve conflicts in a peaceful way. \n",
      "\n",
      "The test of a great nation is not how many wars we can engage in, but how we can use our strength to resolve conflicts in a peaceful way. \n",
      "\n",
      "\n",
      "\n",
      "Most Negative Tweets:\n",
      "\n",
      "It's not hard to understand: terrorists, potential terrorists, criminals and the dangerously mentally ill shouldn't have access to guns. \n",
      "\n",
      "In a world of incredible violence, the state should not be involved in premeditated murder. We need to end the death penalty. \n",
      "\n",
      "We are in this together. The truth is, on some level, when you hurt, when your children hurt, I hurt. And when my kids hurt, you hurt. \n",
      "\n",
      "We are in this together. The truth is, on some level, when you hurt, when your children hurt, I hurt. And when my kids hurt, you hurt. \n",
      "\n",
      "One of the most serious crisis facing this country is the lack of decent-paying jobs for young Americans. We must defeat this crisis. \n",
      "\n"
     ]
    }
   ],
   "source": [
    "max_neg = sorted(zip(sentiment, map(lambda x: x['text'], tweets)))[:5]\n",
    "max_pos = sorted(zip(sentiment, map(lambda x: x['text'], tweets)), reverse=True)[:5]\n",
    "\n",
    "print 'Most Positve Tweets:\\n'\n",
    "for i in map(lambda x: x[1], max_pos):\n",
    "    print i, '\\n'\n",
    "\n",
    "print '\\n'\n",
    "\n",
    "print 'Most Negative Tweets:\\n'\n",
    "for i in map(lambda x: x[1], max_neg):\n",
    "    print i, '\\n'"
   ]
  },
  {
   "cell_type": "code",
   "execution_count": null,
   "metadata": {
    "collapsed": true
   },
   "outputs": [],
   "source": []
  }
 ],
 "metadata": {
  "kernelspec": {
   "display_name": "Python 2",
   "language": "python",
   "name": "python2"
  },
  "language_info": {
   "codemirror_mode": {
    "name": "ipython",
    "version": 2
   },
   "file_extension": ".py",
   "mimetype": "text/x-python",
   "name": "python",
   "nbconvert_exporter": "python",
   "pygments_lexer": "ipython2",
   "version": "2.7.12"
  }
 },
 "nbformat": 4,
 "nbformat_minor": 2
}
